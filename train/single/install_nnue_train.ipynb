{
 "cells": [
  {
   "cell_type": "code",
   "execution_count": null,
   "id": "df32649b-94b7-4b3a-8f71-b1b63a90d9cf",
   "metadata": {},
   "outputs": [],
   "source": [
    "!pip install python-chess grain apache_beam jax jaxtyping\n",
    "!pip install dm-haiku tqdm\n",
    "!pip install \"numpy<2\" --force-reinstall\n",
    "!mkdir -p results && cd results && wget https://huggingface.co/datasets/simsim314/loras_sdxl/resolve/main/nnuew_resnet_step_00750000.pt && cd ..\n"
   ]
  }
 ],
 "metadata": {
  "kernelspec": {
   "display_name": "Python 3 (ipykernel)",
   "language": "python",
   "name": "python3"
  },
  "language_info": {
   "codemirror_mode": {
    "name": "ipython",
    "version": 3
   },
   "file_extension": ".py",
   "mimetype": "text/x-python",
   "name": "python",
   "nbconvert_exporter": "python",
   "pygments_lexer": "ipython3",
   "version": "3.10.12"
  }
 },
 "nbformat": 4,
 "nbformat_minor": 5
}
